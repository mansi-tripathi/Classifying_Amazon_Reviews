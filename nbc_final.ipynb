{
 "cells": [
  {
   "cell_type": "code",
   "execution_count": 1,
   "metadata": {},
   "outputs": [],
   "source": [
    "import numpy as np\n",
    "import pandas as pd"
   ]
  },
  {
   "cell_type": "markdown",
   "metadata": {},
   "source": [
    "# Reading the data file"
   ]
  },
  {
   "cell_type": "code",
   "execution_count": 2,
   "metadata": {},
   "outputs": [],
   "source": [
    "df = pd.read_csv(\"C:/selenium/amazon_scrape.csv\")"
   ]
  },
  {
   "cell_type": "code",
   "execution_count": 3,
   "metadata": {},
   "outputs": [
    {
     "data": {
      "text/html": [
       "<div>\n",
       "<style scoped>\n",
       "    .dataframe tbody tr th:only-of-type {\n",
       "        vertical-align: middle;\n",
       "    }\n",
       "\n",
       "    .dataframe tbody tr th {\n",
       "        vertical-align: top;\n",
       "    }\n",
       "\n",
       "    .dataframe thead th {\n",
       "        text-align: right;\n",
       "    }\n",
       "</style>\n",
       "<table border=\"1\" class=\"dataframe\">\n",
       "  <thead>\n",
       "    <tr style=\"text-align: right;\">\n",
       "      <th></th>\n",
       "      <th>Name</th>\n",
       "      <th>Ratings</th>\n",
       "      <th>Review</th>\n",
       "    </tr>\n",
       "  </thead>\n",
       "  <tbody>\n",
       "    <tr>\n",
       "      <td>0</td>\n",
       "      <td>Adam</td>\n",
       "      <td>5.0 out of 5 stars</td>\n",
       "      <td>I received the Fire TV Stick 4K on launch day....</td>\n",
       "    </tr>\n",
       "    <tr>\n",
       "      <td>1</td>\n",
       "      <td>Vedgehammer</td>\n",
       "      <td>3.0 out of 5 stars</td>\n",
       "      <td>Let me tell you, I was super excited for the l...</td>\n",
       "    </tr>\n",
       "    <tr>\n",
       "      <td>2</td>\n",
       "      <td>rich</td>\n",
       "      <td>1.0 out of 5 stars</td>\n",
       "      <td>Our main streaming service is DirecTV Now, and...</td>\n",
       "    </tr>\n",
       "    <tr>\n",
       "      <td>3</td>\n",
       "      <td>Achint</td>\n",
       "      <td>4.0 out of 5 stars</td>\n",
       "      <td>I was looking for replacing my Roku LT streami...</td>\n",
       "    </tr>\n",
       "    <tr>\n",
       "      <td>4</td>\n",
       "      <td>Birdman</td>\n",
       "      <td>4.0 out of 5 stars</td>\n",
       "      <td>Ok, so if your like me you wonder what exactly...</td>\n",
       "    </tr>\n",
       "  </tbody>\n",
       "</table>\n",
       "</div>"
      ],
      "text/plain": [
       "          Name             Ratings  \\\n",
       "0         Adam  5.0 out of 5 stars   \n",
       "1  Vedgehammer  3.0 out of 5 stars   \n",
       "2         rich  1.0 out of 5 stars   \n",
       "3       Achint  4.0 out of 5 stars   \n",
       "4      Birdman  4.0 out of 5 stars   \n",
       "\n",
       "                                              Review  \n",
       "0  I received the Fire TV Stick 4K on launch day....  \n",
       "1  Let me tell you, I was super excited for the l...  \n",
       "2  Our main streaming service is DirecTV Now, and...  \n",
       "3  I was looking for replacing my Roku LT streami...  \n",
       "4  Ok, so if your like me you wonder what exactly...  "
      ]
     },
     "execution_count": 3,
     "metadata": {},
     "output_type": "execute_result"
    }
   ],
   "source": [
    "df.head()"
   ]
  },
  {
   "cell_type": "markdown",
   "metadata": {},
   "source": [
    "# Changing the Rating column to integer"
   ]
  },
  {
   "cell_type": "code",
   "execution_count": 4,
   "metadata": {},
   "outputs": [],
   "source": [
    "# new data frame with split value columns \n",
    "new = df[\"Ratings\"].str.split(\" \", n = 1, expand = True) "
   ]
  },
  {
   "cell_type": "code",
   "execution_count": 5,
   "metadata": {},
   "outputs": [],
   "source": [
    "df[\"Ratings_id\"]= new[0] "
   ]
  },
  {
   "cell_type": "code",
   "execution_count": 6,
   "metadata": {},
   "outputs": [
    {
     "data": {
      "text/html": [
       "<div>\n",
       "<style scoped>\n",
       "    .dataframe tbody tr th:only-of-type {\n",
       "        vertical-align: middle;\n",
       "    }\n",
       "\n",
       "    .dataframe tbody tr th {\n",
       "        vertical-align: top;\n",
       "    }\n",
       "\n",
       "    .dataframe thead th {\n",
       "        text-align: right;\n",
       "    }\n",
       "</style>\n",
       "<table border=\"1\" class=\"dataframe\">\n",
       "  <thead>\n",
       "    <tr style=\"text-align: right;\">\n",
       "      <th></th>\n",
       "      <th>Name</th>\n",
       "      <th>Ratings</th>\n",
       "      <th>Review</th>\n",
       "      <th>Ratings_id</th>\n",
       "    </tr>\n",
       "  </thead>\n",
       "  <tbody>\n",
       "    <tr>\n",
       "      <td>0</td>\n",
       "      <td>Adam</td>\n",
       "      <td>5.0 out of 5 stars</td>\n",
       "      <td>I received the Fire TV Stick 4K on launch day....</td>\n",
       "      <td>5.0</td>\n",
       "    </tr>\n",
       "    <tr>\n",
       "      <td>1</td>\n",
       "      <td>Vedgehammer</td>\n",
       "      <td>3.0 out of 5 stars</td>\n",
       "      <td>Let me tell you, I was super excited for the l...</td>\n",
       "      <td>3.0</td>\n",
       "    </tr>\n",
       "    <tr>\n",
       "      <td>2</td>\n",
       "      <td>rich</td>\n",
       "      <td>1.0 out of 5 stars</td>\n",
       "      <td>Our main streaming service is DirecTV Now, and...</td>\n",
       "      <td>1.0</td>\n",
       "    </tr>\n",
       "    <tr>\n",
       "      <td>3</td>\n",
       "      <td>Achint</td>\n",
       "      <td>4.0 out of 5 stars</td>\n",
       "      <td>I was looking for replacing my Roku LT streami...</td>\n",
       "      <td>4.0</td>\n",
       "    </tr>\n",
       "    <tr>\n",
       "      <td>4</td>\n",
       "      <td>Birdman</td>\n",
       "      <td>4.0 out of 5 stars</td>\n",
       "      <td>Ok, so if your like me you wonder what exactly...</td>\n",
       "      <td>4.0</td>\n",
       "    </tr>\n",
       "  </tbody>\n",
       "</table>\n",
       "</div>"
      ],
      "text/plain": [
       "          Name             Ratings  \\\n",
       "0         Adam  5.0 out of 5 stars   \n",
       "1  Vedgehammer  3.0 out of 5 stars   \n",
       "2         rich  1.0 out of 5 stars   \n",
       "3       Achint  4.0 out of 5 stars   \n",
       "4      Birdman  4.0 out of 5 stars   \n",
       "\n",
       "                                              Review Ratings_id  \n",
       "0  I received the Fire TV Stick 4K on launch day....        5.0  \n",
       "1  Let me tell you, I was super excited for the l...        3.0  \n",
       "2  Our main streaming service is DirecTV Now, and...        1.0  \n",
       "3  I was looking for replacing my Roku LT streami...        4.0  \n",
       "4  Ok, so if your like me you wonder what exactly...        4.0  "
      ]
     },
     "execution_count": 6,
     "metadata": {},
     "output_type": "execute_result"
    }
   ],
   "source": [
    "df.head()"
   ]
  },
  {
   "cell_type": "code",
   "execution_count": 7,
   "metadata": {},
   "outputs": [],
   "source": [
    "# new data frame with split value columns \n",
    "new1 = df[\"Ratings\"].str.split(\".\", n = 1, expand = True) "
   ]
  },
  {
   "cell_type": "code",
   "execution_count": 8,
   "metadata": {},
   "outputs": [],
   "source": [
    "df[\"Ratings_id\"]= new1[0] "
   ]
  },
  {
   "cell_type": "code",
   "execution_count": 9,
   "metadata": {},
   "outputs": [
    {
     "data": {
      "text/html": [
       "<div>\n",
       "<style scoped>\n",
       "    .dataframe tbody tr th:only-of-type {\n",
       "        vertical-align: middle;\n",
       "    }\n",
       "\n",
       "    .dataframe tbody tr th {\n",
       "        vertical-align: top;\n",
       "    }\n",
       "\n",
       "    .dataframe thead th {\n",
       "        text-align: right;\n",
       "    }\n",
       "</style>\n",
       "<table border=\"1\" class=\"dataframe\">\n",
       "  <thead>\n",
       "    <tr style=\"text-align: right;\">\n",
       "      <th></th>\n",
       "      <th>Name</th>\n",
       "      <th>Ratings</th>\n",
       "      <th>Review</th>\n",
       "      <th>Ratings_id</th>\n",
       "    </tr>\n",
       "  </thead>\n",
       "  <tbody>\n",
       "    <tr>\n",
       "      <td>0</td>\n",
       "      <td>Adam</td>\n",
       "      <td>5.0 out of 5 stars</td>\n",
       "      <td>I received the Fire TV Stick 4K on launch day....</td>\n",
       "      <td>5</td>\n",
       "    </tr>\n",
       "    <tr>\n",
       "      <td>1</td>\n",
       "      <td>Vedgehammer</td>\n",
       "      <td>3.0 out of 5 stars</td>\n",
       "      <td>Let me tell you, I was super excited for the l...</td>\n",
       "      <td>3</td>\n",
       "    </tr>\n",
       "    <tr>\n",
       "      <td>2</td>\n",
       "      <td>rich</td>\n",
       "      <td>1.0 out of 5 stars</td>\n",
       "      <td>Our main streaming service is DirecTV Now, and...</td>\n",
       "      <td>1</td>\n",
       "    </tr>\n",
       "    <tr>\n",
       "      <td>3</td>\n",
       "      <td>Achint</td>\n",
       "      <td>4.0 out of 5 stars</td>\n",
       "      <td>I was looking for replacing my Roku LT streami...</td>\n",
       "      <td>4</td>\n",
       "    </tr>\n",
       "    <tr>\n",
       "      <td>4</td>\n",
       "      <td>Birdman</td>\n",
       "      <td>4.0 out of 5 stars</td>\n",
       "      <td>Ok, so if your like me you wonder what exactly...</td>\n",
       "      <td>4</td>\n",
       "    </tr>\n",
       "  </tbody>\n",
       "</table>\n",
       "</div>"
      ],
      "text/plain": [
       "          Name             Ratings  \\\n",
       "0         Adam  5.0 out of 5 stars   \n",
       "1  Vedgehammer  3.0 out of 5 stars   \n",
       "2         rich  1.0 out of 5 stars   \n",
       "3       Achint  4.0 out of 5 stars   \n",
       "4      Birdman  4.0 out of 5 stars   \n",
       "\n",
       "                                              Review Ratings_id  \n",
       "0  I received the Fire TV Stick 4K on launch day....          5  \n",
       "1  Let me tell you, I was super excited for the l...          3  \n",
       "2  Our main streaming service is DirecTV Now, and...          1  \n",
       "3  I was looking for replacing my Roku LT streami...          4  \n",
       "4  Ok, so if your like me you wonder what exactly...          4  "
      ]
     },
     "execution_count": 9,
     "metadata": {},
     "output_type": "execute_result"
    }
   ],
   "source": [
    "df.head()"
   ]
  },
  {
   "cell_type": "code",
   "execution_count": 10,
   "metadata": {},
   "outputs": [
    {
     "data": {
      "text/html": [
       "<div>\n",
       "<style scoped>\n",
       "    .dataframe tbody tr th:only-of-type {\n",
       "        vertical-align: middle;\n",
       "    }\n",
       "\n",
       "    .dataframe tbody tr th {\n",
       "        vertical-align: top;\n",
       "    }\n",
       "\n",
       "    .dataframe thead th {\n",
       "        text-align: right;\n",
       "    }\n",
       "</style>\n",
       "<table border=\"1\" class=\"dataframe\">\n",
       "  <thead>\n",
       "    <tr style=\"text-align: right;\">\n",
       "      <th></th>\n",
       "      <th>Name</th>\n",
       "      <th>Ratings</th>\n",
       "      <th>Review</th>\n",
       "      <th>Ratings_id</th>\n",
       "    </tr>\n",
       "  </thead>\n",
       "  <tbody>\n",
       "    <tr>\n",
       "      <td>0</td>\n",
       "      <td>Adam</td>\n",
       "      <td>5.0 out of 5 stars</td>\n",
       "      <td>I received the Fire TV Stick 4K on launch day....</td>\n",
       "      <td>5</td>\n",
       "    </tr>\n",
       "    <tr>\n",
       "      <td>1</td>\n",
       "      <td>Vedgehammer</td>\n",
       "      <td>3.0 out of 5 stars</td>\n",
       "      <td>Let me tell you, I was super excited for the l...</td>\n",
       "      <td>3</td>\n",
       "    </tr>\n",
       "    <tr>\n",
       "      <td>2</td>\n",
       "      <td>rich</td>\n",
       "      <td>1.0 out of 5 stars</td>\n",
       "      <td>Our main streaming service is DirecTV Now, and...</td>\n",
       "      <td>1</td>\n",
       "    </tr>\n",
       "    <tr>\n",
       "      <td>3</td>\n",
       "      <td>Achint</td>\n",
       "      <td>4.0 out of 5 stars</td>\n",
       "      <td>I was looking for replacing my Roku LT streami...</td>\n",
       "      <td>4</td>\n",
       "    </tr>\n",
       "    <tr>\n",
       "      <td>4</td>\n",
       "      <td>Birdman</td>\n",
       "      <td>4.0 out of 5 stars</td>\n",
       "      <td>Ok, so if your like me you wonder what exactly...</td>\n",
       "      <td>4</td>\n",
       "    </tr>\n",
       "  </tbody>\n",
       "</table>\n",
       "</div>"
      ],
      "text/plain": [
       "          Name             Ratings  \\\n",
       "0         Adam  5.0 out of 5 stars   \n",
       "1  Vedgehammer  3.0 out of 5 stars   \n",
       "2         rich  1.0 out of 5 stars   \n",
       "3       Achint  4.0 out of 5 stars   \n",
       "4      Birdman  4.0 out of 5 stars   \n",
       "\n",
       "                                              Review Ratings_id  \n",
       "0  I received the Fire TV Stick 4K on launch day....          5  \n",
       "1  Let me tell you, I was super excited for the l...          3  \n",
       "2  Our main streaming service is DirecTV Now, and...          1  \n",
       "3  I was looking for replacing my Roku LT streami...          4  \n",
       "4  Ok, so if your like me you wonder what exactly...          4  "
      ]
     },
     "execution_count": 10,
     "metadata": {},
     "output_type": "execute_result"
    }
   ],
   "source": [
    "rating_id_df = df[['Ratings', 'Ratings_id']].drop_duplicates().sort_values('Ratings_id')\n",
    "rating_to_id = dict(rating_id_df.values)\n",
    "id_to_rating = dict(rating_id_df[['Ratings_id', 'Ratings']].values)\n",
    "df.head()"
   ]
  },
  {
   "cell_type": "markdown",
   "metadata": {},
   "source": [
    "# Checking the quality of data"
   ]
  },
  {
   "cell_type": "code",
   "execution_count": 12,
   "metadata": {},
   "outputs": [
    {
     "data": {
      "image/png": "[encoded data removed]",
      "text/plain": [
       "<Figure size 576x432 with 1 Axes>"
      ]
     },
     "metadata": {
      "needs_background": "light"
     },
     "output_type": "display_data"
    }
   ],
   "source": [
    "#Imbalanced Classes\n",
    "import matplotlib.pyplot as plt\n",
    "fig = plt.figure(figsize=(8,6))\n",
    "df.groupby('Ratings_id').Review.count().plot.bar(ylim=0)\n",
    "plt.show()"
   ]
  },
  {
   "cell_type": "markdown",
   "metadata": {},
   "source": [
    "# Text Pre processing"
   ]
  },
  {
   "cell_type": "code",
   "execution_count": 13,
   "metadata": {},
   "outputs": [],
   "source": [
    "import nltk\n",
    "import string\n",
    "from nltk.corpus import stopwords\n",
    "from nltk.tokenize import RegexpTokenizer\n",
    "from nltk.stem import WordNetLemmatizer\n",
    "from nltk.stem.porter import PorterStemmer"
   ]
  },
  {
   "cell_type": "code",
   "execution_count": 14,
   "metadata": {},
   "outputs": [],
   "source": [
    "def remove_punctuation (text):\n",
    "    no_punct = \"\".join([c for c in text if c not in string.punctuation])\n",
    "    return no_punct"
   ]
  },
  {
   "cell_type": "code",
   "execution_count": 15,
   "metadata": {},
   "outputs": [],
   "source": [
    "tokenizer = RegexpTokenizer(r'\\w+')\n"
   ]
  },
  {
   "cell_type": "code",
   "execution_count": 16,
   "metadata": {},
   "outputs": [],
   "source": [
    "def remove_stopwords(text):\n",
    "    words = [w for w in text if w not in stopwords.words('english')]\n",
    "    return words"
   ]
  },
  {
   "cell_type": "code",
   "execution_count": 25,
   "metadata": {},
   "outputs": [],
   "source": [
    "lemmatizer = WordNetLemmatizer()\n",
    "def word_lemmatizer(text):\n",
    "    lem_text = [lemmatizer.lemmatize(i) for i in text]\n",
    "    return lem_text"
   ]
  },
  {
   "cell_type": "code",
   "execution_count": 18,
   "metadata": {},
   "outputs": [],
   "source": [
    "stemmer = PorterStemmer()\n",
    "def word_stemmer(text):\n",
    "    stem_text = \" \".join([stemmer.stem(i) for i in text])\n",
    "    return stem_text"
   ]
  },
  {
   "cell_type": "code",
   "execution_count": 19,
   "metadata": {},
   "outputs": [
    {
     "data": {
      "text/plain": [
       "0    I received the Fire TV Stick 4K on launch day ...\n",
       "1    Let me tell you I was super excited for the la...\n",
       "2    Our main streaming service is DirecTV Now and ...\n",
       "3    I was looking for replacing my Roku LT streami...\n",
       "4    Ok so if your like me you wonder what exactly ...\n",
       "Name: Review, dtype: object"
      ]
     },
     "execution_count": 19,
     "metadata": {},
     "output_type": "execute_result"
    }
   ],
   "source": [
    "df['Review'] = df['Review'].apply(lambda x : remove_punctuation(x))\n",
    "df['Review'].head()"
   ]
  },
  {
   "cell_type": "code",
   "execution_count": 21,
   "metadata": {},
   "outputs": [
    {
     "data": {
      "text/plain": [
       "0    [i, received, the, fire, tv, stick, 4k, on, la...\n",
       "1    [let, me, tell, you, i, was, super, excited, f...\n",
       "2    [our, main, streaming, service, is, directv, n...\n",
       "3    [i, was, looking, for, replacing, my, roku, lt...\n",
       "4    [ok, so, if, your, like, me, you, wonder, what...\n",
       "Name: Review, dtype: object"
      ]
     },
     "execution_count": 21,
     "metadata": {},
     "output_type": "execute_result"
    }
   ],
   "source": [
    "df['Review'] = df['Review'].apply(lambda x : tokenizer.tokenize(x.lower()))\n",
    "df['Review'].head()"
   ]
  },
  {
   "cell_type": "code",
   "execution_count": 23,
   "metadata": {},
   "outputs": [
    {
     "data": {
      "text/plain": [
       "0    [received, fire, tv, stick, 4k, launch, day, p...\n",
       "1    [let, tell, super, excited, launch, new, firet...\n",
       "2    [main, streaming, service, directv, stick, doe...\n",
       "3    [looking, replacing, roku, lt, streaming, box,...\n",
       "4    [ok, like, wonder, exactly, fire, stick, well,...\n",
       "Name: Review, dtype: object"
      ]
     },
     "execution_count": 23,
     "metadata": {},
     "output_type": "execute_result"
    }
   ],
   "source": [
    "df['Review'] = df['Review'].apply(lambda x : remove_stopwords(x))\n",
    "df['Review'].head()"
   ]
  },
  {
   "cell_type": "code",
   "execution_count": 26,
   "metadata": {},
   "outputs": [
    {
     "data": {
      "text/plain": [
       "0       [received, fire, tv, stick, 4k, launch, day, p...\n",
       "1       [let, tell, super, excited, launch, new, firet...\n",
       "2       [main, streaming, service, directv, stick, doe...\n",
       "3       [looking, replacing, roku, lt, streaming, box,...\n",
       "4       [ok, like, wonder, exactly, fire, stick, well,...\n",
       "                              ...                        \n",
       "4686    [tired, taken, financial, ride, every, month, ...\n",
       "4687    [ok, device, free, content, get, subscription,...\n",
       "4688    [far, love, got, chance, use, feature, yet, st...\n",
       "4689    [upgraded, original, fire, stick, must, say, h...\n",
       "4690    [ordered, prime, day, 2, older, version, one, ...\n",
       "Name: Review, Length: 4691, dtype: object"
      ]
     },
     "execution_count": 26,
     "metadata": {},
     "output_type": "execute_result"
    }
   ],
   "source": [
    "df['Review'].apply(lambda x : word_lemmatizer(x))"
   ]
  },
  {
   "cell_type": "code",
   "execution_count": 27,
   "metadata": {},
   "outputs": [],
   "source": [
    "df['Review'] = df['Review'].apply(lambda x : word_stemmer(x))"
   ]
  },
  {
   "cell_type": "code",
   "execution_count": 28,
   "metadata": {},
   "outputs": [
    {
     "data": {
      "text/html": [
       "<div>\n",
       "<style scoped>\n",
       "    .dataframe tbody tr th:only-of-type {\n",
       "        vertical-align: middle;\n",
       "    }\n",
       "\n",
       "    .dataframe tbody tr th {\n",
       "        vertical-align: top;\n",
       "    }\n",
       "\n",
       "    .dataframe thead th {\n",
       "        text-align: right;\n",
       "    }\n",
       "</style>\n",
       "<table border=\"1\" class=\"dataframe\">\n",
       "  <thead>\n",
       "    <tr style=\"text-align: right;\">\n",
       "      <th></th>\n",
       "      <th>Name</th>\n",
       "      <th>Ratings</th>\n",
       "      <th>Review</th>\n",
       "      <th>Ratings_id</th>\n",
       "    </tr>\n",
       "  </thead>\n",
       "  <tbody>\n",
       "    <tr>\n",
       "      <td>0</td>\n",
       "      <td>Adam</td>\n",
       "      <td>5.0 out of 5 stars</td>\n",
       "      <td>receiv fire tv stick 4k launch day previou mod...</td>\n",
       "      <td>5</td>\n",
       "    </tr>\n",
       "    <tr>\n",
       "      <td>1</td>\n",
       "      <td>Vedgehammer</td>\n",
       "      <td>3.0 out of 5 stars</td>\n",
       "      <td>let tell super excit launch new firetv stick l...</td>\n",
       "      <td>3</td>\n",
       "    </tr>\n",
       "    <tr>\n",
       "      <td>2</td>\n",
       "      <td>rich</td>\n",
       "      <td>1.0 out of 5 stars</td>\n",
       "      <td>main stream servic directv stick doesnt run ri...</td>\n",
       "      <td>1</td>\n",
       "    </tr>\n",
       "    <tr>\n",
       "      <td>3</td>\n",
       "      <td>Achint</td>\n",
       "      <td>4.0 out of 5 stars</td>\n",
       "      <td>look replac roku lt stream box releas 100 year...</td>\n",
       "      <td>4</td>\n",
       "    </tr>\n",
       "    <tr>\n",
       "      <td>4</td>\n",
       "      <td>Birdman</td>\n",
       "      <td>4.0 out of 5 stars</td>\n",
       "      <td>ok like wonder exactli fire stick well 1st sav...</td>\n",
       "      <td>4</td>\n",
       "    </tr>\n",
       "  </tbody>\n",
       "</table>\n",
       "</div>"
      ],
      "text/plain": [
       "          Name             Ratings  \\\n",
       "0         Adam  5.0 out of 5 stars   \n",
       "1  Vedgehammer  3.0 out of 5 stars   \n",
       "2         rich  1.0 out of 5 stars   \n",
       "3       Achint  4.0 out of 5 stars   \n",
       "4      Birdman  4.0 out of 5 stars   \n",
       "\n",
       "                                              Review Ratings_id  \n",
       "0  receiv fire tv stick 4k launch day previou mod...          5  \n",
       "1  let tell super excit launch new firetv stick l...          3  \n",
       "2  main stream servic directv stick doesnt run ri...          1  \n",
       "3  look replac roku lt stream box releas 100 year...          4  \n",
       "4  ok like wonder exactli fire stick well 1st sav...          4  "
      ]
     },
     "execution_count": 28,
     "metadata": {},
     "output_type": "execute_result"
    }
   ],
   "source": [
    "df.head()"
   ]
  },
  {
   "cell_type": "markdown",
   "metadata": {},
   "source": [
    "# Text Representation\n",
    "# The classifiers and learning algorithms can not directly process the text documents in their original form,\n",
    "# as most of them expect numerical feature vectors with a fixed size rather than the raw text documents with variable length\n",
    "# for each term in our dataset, we will calculate a measure called Term Frequency, Inverse Document Frequency, \n",
    "# abbreviated to tf-idf"
   ]
  },
  {
   "cell_type": "code",
   "execution_count": 29,
   "metadata": {},
   "outputs": [
    {
     "data": {
      "text/plain": [
       "(4691, 9132)"
      ]
     },
     "execution_count": 29,
     "metadata": {},
     "output_type": "execute_result"
    }
   ],
   "source": [
    "\n",
    "\n",
    "from sklearn.feature_extraction.text import TfidfVectorizer\n",
    "tfidf = TfidfVectorizer(sublinear_tf=True, min_df=5, norm='l2', encoding='latin-1', ngram_range=(1, 2), stop_words='english')\n",
    "features = tfidf.fit_transform(df.Review).toarray()\n",
    "labels = df.Ratings_id\n",
    "features.shape"
   ]
  },
  {
   "cell_type": "markdown",
   "metadata": {},
   "source": [
    "# We can use sklearn.feature_selection.chi2 to find the terms that are the most correlated with each of the Review:"
   ]
  },
  {
   "cell_type": "code",
   "execution_count": 30,
   "metadata": {},
   "outputs": [
    {
     "name": "stdout",
     "output_type": "stream",
     "text": [
      "# '1.0 out of 5 stars':\n",
      "  . Most correlated unigrams:\n",
      ". refund\n",
      ". return\n",
      "  . Most correlated bigrams:\n",
      ". stop work\n",
      ". wast money\n",
      "# '2.0 out of 5 stars':\n",
      "  . Most correlated unigrams:\n",
      ". restart\n",
      ". nope\n",
      "  . Most correlated bigrams:\n",
      ". day alreadi\n",
      ". tri plug\n",
      "# '3.0 out of 5 stars':\n",
      "  . Most correlated unigrams:\n",
      ". ok\n",
      ". annoy\n",
      "  . Most correlated bigrams:\n",
      ". mayb amazon\n",
      ". spectrum app\n",
      "# '4.0 out of 5 stars':\n",
      "  . Most correlated unigrams:\n",
      ". overal\n",
      ". star\n",
      "  . Most correlated bigrams:\n",
      ". initi instal\n",
      ". gave star\n",
      "# '5.0 out of 5 stars':\n",
      "  . Most correlated unigrams:\n",
      ". love\n",
      ". return\n",
      "  . Most correlated bigrams:\n",
      ". work fine\n",
      ". highli recommend\n"
     ]
    }
   ],
   "source": [
    "\n",
    "from sklearn.feature_selection import chi2\n",
    "import numpy as np\n",
    "\n",
    "N = 2\n",
    "for Ratings, Ratings_id in sorted(rating_to_id.items()):\n",
    "    features_chi2 = chi2(features, labels == Ratings_id)\n",
    "    indices = np.argsort(features_chi2[0])\n",
    "    feature_names = np.array(tfidf.get_feature_names())[indices]\n",
    "    unigrams = [v for v in feature_names if len(v.split(' ')) == 1]\n",
    "    bigrams = [v for v in feature_names if len(v.split(' ')) == 2]\n",
    "    print(\"# '{}':\".format(Ratings))\n",
    "    print(\"  . Most correlated unigrams:\\n. {}\".format('\\n. '.join(unigrams[-N:])))\n",
    "    print(\"  . Most correlated bigrams:\\n. {}\".format('\\n. '.join(bigrams[-N:])))"
   ]
  },
  {
   "cell_type": "markdown",
   "metadata": {},
   "source": [
    "# Multi-Class Classifier: Features and Design\n",
    "# Model 1 :Navie Bayse classifier :the one most suitable for word counts is the multinomial variant\n",
    "# test_size=0.2, random_state=42"
   ]
  },
  {
   "cell_type": "code",
   "execution_count": 31,
   "metadata": {},
   "outputs": [],
   "source": [
    "\n",
    "\n",
    "from sklearn.model_selection import train_test_split\n",
    "from sklearn.feature_extraction.text import CountVectorizer\n",
    "from sklearn.feature_extraction.text import TfidfTransformer\n",
    "from sklearn.naive_bayes import MultinomialNB\n",
    "X_train, X_test, y_train, y_test = train_test_split(df['Review'], df['Ratings'], random_state = 0)\n",
    "count_vect = CountVectorizer()\n",
    "X_train_counts = count_vect.fit_transform(X_train)\n",
    "tfidf_transformer = TfidfTransformer()\n",
    "X_train_tfidf = tfidf_transformer.fit_transform(X_train_counts)\n",
    "clf = MultinomialNB().fit(X_train_tfidf, y_train)\n",
    "\n"
   ]
  },
  {
   "cell_type": "markdown",
   "metadata": {},
   "source": [
    "# predicting the ratings"
   ]
  },
  {
   "cell_type": "code",
   "execution_count": 33,
   "metadata": {},
   "outputs": [],
   "source": [
    "a= \"Update: I had to move the fire stick to the living room so that it would be directly by the WiFi box in order for it to work. I had to move the Roku back to my bedroom (where the fire stick initially was) and that still works with ZERO buffering issues. Now, suddenly a month to so later, every single time I try to use the fire stick I get a message on the screen that says, â€œHome is Currently Unavailable. We are unable to connect to Amazon services. Please check your internet connection or try again laterâ€. I then click the â€œgo to network settings linkâ€ and it shows that I am connected and that the signal is great. Yet, I still canâ€™t use the freaking fire stick. It has been 4 days and it still keeps saying that it cannot connect. Even though our phones, tablets, TVs, laptops, DVD players, Xboxes, and PlayStations are connecting fine, I rebooted the WiFi. Iâ€™ve tried disconnecting and reconnecting the fire stick to the WiFi. Iâ€™ve tried everything. I have always been a roku owner. I finally decided to give the fire stick a try and I regret it. I like the setup of the fire stick, but itâ€™s pointless when I canâ€™t even use it. Iâ€™d give it zero stars if I had the option to do so. Iâ€™m sending it back.\"\n"
   ]
  },
  {
   "cell_type": "code",
   "execution_count": 34,
   "metadata": {},
   "outputs": [
    {
     "name": "stdout",
     "output_type": "stream",
     "text": [
      "['5.0 out of 5 stars']\n"
     ]
    }
   ],
   "source": [
    "#predicting \n",
    "print(clf.predict(count_vect.transform([a])))"
   ]
  },
  {
   "cell_type": "markdown",
   "metadata": {},
   "source": [
    "# checking the accuracy"
   ]
  },
  {
   "cell_type": "code",
   "execution_count": 35,
   "metadata": {},
   "outputs": [],
   "source": [
    "from sklearn.model_selection import cross_val_score\n",
    "CV = 5\n",
    "model = MultinomialNB()\n",
    "cv_df = pd.DataFrame()\n",
    "entries = []\n",
    "model_name = model.__class__.__name__\n",
    "accuracies = cross_val_score(model, features, labels, scoring='accuracy', cv=CV)\n",
    "for fold_idx, accuracy in enumerate(accuracies):\n",
    "    entries.append((model_name, fold_idx, accuracy))\n",
    "cv_df = pd.DataFrame(entries, columns=['model_name', 'fold_idx', 'accuracy'])"
   ]
  },
  {
   "cell_type": "code",
   "execution_count": 36,
   "metadata": {},
   "outputs": [
    {
     "data": {
      "image/png": "[encoded data removed]",
      "text/plain": [
       "<Figure size 432x288 with 1 Axes>"
      ]
     },
     "metadata": {
      "needs_background": "light"
     },
     "output_type": "display_data"
    }
   ],
   "source": [
    "import seaborn as sns\n",
    "sns.boxplot(x='model_name', y='accuracy', data=cv_df)\n",
    "sns.stripplot(x='model_name', y='accuracy', data=cv_df, \n",
    "              size=8, jitter=True, edgecolor=\"gray\", linewidth=2)\n",
    "plt.show()"
   ]
  },
  {
   "cell_type": "code",
   "execution_count": 37,
   "metadata": {},
   "outputs": [
    {
     "data": {
      "text/plain": [
       "model_name\n",
       "MultinomialNB    0.558304\n",
       "Name: accuracy, dtype: float64"
      ]
     },
     "execution_count": 37,
     "metadata": {},
     "output_type": "execute_result"
    }
   ],
   "source": [
    "cv_df.groupby('model_name').accuracy.mean()"
   ]
  },
  {
   "cell_type": "markdown",
   "metadata": {},
   "source": [
    "# model evaluation"
   ]
  },
  {
   "cell_type": "code",
   "execution_count": 38,
   "metadata": {},
   "outputs": [],
   "source": [
    "\n",
    "model = MultinomialNB()\n",
    "X_train, X_test, y_train, y_test, indices_train, indices_test = train_test_split(features, labels, df.index, test_size=0.2, random_state=0)\n",
    "model.fit(X_train, y_train)\n",
    "y_pred = model.predict(X_test)"
   ]
  },
  {
   "cell_type": "code",
   "execution_count": 39,
   "metadata": {
    "scrolled": false
   },
   "outputs": [
    {
     "data": {
      "image/png": "[encoded data removed]",
      "text/plain": [
       "<Figure size 1080x720 with 2 Axes>"
      ]
     },
     "metadata": {
      "needs_background": "light"
     },
     "output_type": "display_data"
    }
   ],
   "source": [
    "from sklearn.metrics import confusion_matrix\n",
    "conf_mat = confusion_matrix(y_test, y_pred)\n",
    "fig, ax = plt.subplots(figsize=(15,10))\n",
    "sns.heatmap(conf_mat, annot=True, fmt='d',\n",
    "            xticklabels=rating_id_df.Ratings.values, yticklabels=rating_id_df.Ratings.values)\n",
    "plt.ylabel('Actual')\n",
    "plt.xlabel('Predicted')\n",
    "plt.show()"
   ]
  },
  {
   "cell_type": "code",
   "execution_count": 40,
   "metadata": {},
   "outputs": [
    {
     "name": "stdout",
     "output_type": "stream",
     "text": [
      "                    precision    recall  f1-score   support\n",
      "\n",
      "5.0 out of 5 stars       0.71      0.21      0.32       139\n",
      "3.0 out of 5 stars       0.00      0.00      0.00        72\n",
      "1.0 out of 5 stars       0.00      0.00      0.00        98\n",
      "4.0 out of 5 stars       0.00      0.00      0.00       126\n",
      "2.0 out of 5 stars       0.56      1.00      0.72       504\n",
      "\n",
      "          accuracy                           0.57       939\n",
      "         macro avg       0.25      0.24      0.21       939\n",
      "      weighted avg       0.41      0.57      0.43       939\n",
      "\n"
     ]
    },
    {
     "name": "stderr",
     "output_type": "stream",
     "text": [
      "C:\\Users\\Akhilesh\\Anaconda3\\lib\\site-packages\\sklearn\\metrics\\_classification.py:1272: UndefinedMetricWarning: Precision and F-score are ill-defined and being set to 0.0 in labels with no predicted samples. Use `zero_division` parameter to control this behavior.\n",
      "  _warn_prf(average, modifier, msg_start, len(result))\n"
     ]
    }
   ],
   "source": [
    "from sklearn import metrics\n",
    "print(metrics.classification_report(y_test, y_pred, target_names=df['Ratings'].unique()))"
   ]
  },
  {
   "cell_type": "markdown",
   "metadata": {},
   "source": [
    "# sampling as the data is uneven"
   ]
  },
  {
   "cell_type": "code",
   "execution_count": 41,
   "metadata": {},
   "outputs": [
    {
     "name": "stderr",
     "output_type": "stream",
     "text": [
      "Using TensorFlow backend.\n"
     ]
    }
   ],
   "source": [
    "from imblearn.over_sampling import SMOTE\n",
    "X_train, X_test, y_train, y_test, indices_train, indices_test = train_test_split(features, labels, df.index, test_size=0.2, random_state=0)\n",
    "sm = SMOTE(random_state=27)\n",
    "X_train, y_train = sm.fit_sample(X_train, y_train)"
   ]
  },
  {
   "cell_type": "code",
   "execution_count": 42,
   "metadata": {},
   "outputs": [],
   "source": [
    "smote = model.fit(X_train, y_train)\n",
    "y_pred = smote.predict(X_test)"
   ]
  },
  {
   "cell_type": "markdown",
   "metadata": {},
   "source": [
    "# checking the accuracy "
   ]
  },
  {
   "cell_type": "code",
   "execution_count": 43,
   "metadata": {},
   "outputs": [
    {
     "data": {
      "text/plain": [
       "0.582534611288605"
      ]
     },
     "execution_count": 43,
     "metadata": {},
     "output_type": "execute_result"
    }
   ],
   "source": [
    "from sklearn.metrics import accuracy_score\n",
    "accuracy_score(y_test,y_pred)"
   ]
  },
  {
   "cell_type": "code",
   "execution_count": 44,
   "metadata": {},
   "outputs": [
    {
     "name": "stdout",
     "output_type": "stream",
     "text": [
      "                    precision    recall  f1-score   support\n",
      "\n",
      "5.0 out of 5 stars       0.50      0.59      0.54       139\n",
      "3.0 out of 5 stars       0.21      0.21      0.21        72\n",
      "1.0 out of 5 stars       0.25      0.27      0.25        98\n",
      "4.0 out of 5 stars       0.27      0.29      0.28       126\n",
      "2.0 out of 5 stars       0.85      0.77      0.81       504\n",
      "\n",
      "          accuracy                           0.58       939\n",
      "         macro avg       0.41      0.43      0.42       939\n",
      "      weighted avg       0.61      0.58      0.59       939\n",
      "\n"
     ]
    }
   ],
   "source": [
    "from sklearn import metrics\n",
    "print(metrics.classification_report(y_test, y_pred, target_names=df['Ratings'].unique()))"
   ]
  },
  {
   "cell_type": "code",
   "execution_count": 45,
   "metadata": {},
   "outputs": [
    {
     "data": {
      "image/png": "[encoded data removed]",
      "text/plain": [
       "<Figure size 1080x720 with 2 Axes>"
      ]
     },
     "metadata": {
      "needs_background": "light"
     },
     "output_type": "display_data"
    }
   ],
   "source": [
    "from sklearn.metrics import confusion_matrix\n",
    "conf_mat = confusion_matrix(y_test, y_pred)\n",
    "fig, ax = plt.subplots(figsize=(15,10))\n",
    "sns.heatmap(conf_mat, annot=True, fmt='d',\n",
    "            xticklabels=rating_id_df.Ratings.values, yticklabels=rating_id_df.Ratings.values)\n",
    "plt.ylabel('Actual')\n",
    "plt.xlabel('Predicted')\n",
    "plt.show()"
   ]
  },
  {
   "cell_type": "markdown",
   "metadata": {},
   "source": [
    "# We can observe that the accuracy increased after sampling the data using smote to 58% from 56% \n",
    "\n",
    "# Furture if we want to improve the accuracy we need to work on the pre processing of the text data -\n",
    "\n",
    "# eg . removing the Stopwords,Lemmatize ,etc"
   ]
  },
  {
   "cell_type": "code",
   "execution_count": null,
   "metadata": {},
   "outputs": [],
   "source": []
  }
 ],
 "metadata": {
  "kernelspec": {
   "display_name": "Python 3",
   "language": "python",
   "name": "python3"
  },
  "language_info": {
   "codemirror_mode": {
    "name": "ipython",
    "version": 3
   },
   "file_extension": ".py",
   "mimetype": "text/x-python",
   "name": "python",
   "nbconvert_exporter": "python",
   "pygments_lexer": "ipython3",
   "version": "3.7.3"
  }
 },
 "nbformat": 4,
 "nbformat_minor": 2
}
